{
 "cells": [
  {
   "cell_type": "code",
   "execution_count": 1,
   "metadata": {},
   "outputs": [],
   "source": [
    "import cv2\n",
    "import os\n",
    "import numpy as np\n",
    "import matplotlib.pyplot as plt"
   ]
  },
  {
   "cell_type": "code",
   "execution_count": 2,
   "metadata": {},
   "outputs": [],
   "source": [
    "spacing = {\n",
    "    \"single_ch\":    [14.3, 15.3, 16.3, 17.8, 19.3, 21.3, 23.3, 26.3, 28.3, 31.3, 36.3],\n",
    "    \"18GHz\":        [18, 19, 20, 23, 25, 27, 30, 32, 35, 40],\n",
    "    \"17.6GHz\":      [18, 19, 20, 21.5, 23, 25, 27, 30, 32, 35, 40],\n",
    "    \"17GHz\":        [18, 19, 20, 21.5, 23, 25, 27, 30, 32, 35, 40],\n",
    "    \"16.5GHz\":      [18, 19, 20, 21.5, 23, 25, 27, 30, 32, 35, 40],\n",
    "    \"16GHz\":        [18, 19, 20, 21.5, 23, 25, 27, 30, 32, 35, 40],\n",
    "    \"15.5GHz\":      [20, 21.5, 23, 25, 27, 30, 32, 35, 40],\n",
    "    \"15GHz\":        [23, 25, 27, 30, 32, 35, 40],\n",
    "}"
   ]
  },
  {
   "cell_type": "code",
   "execution_count": 3,
   "metadata": {},
   "outputs": [],
   "source": [
    "n_samples = 12096 # Number of samples for each scenario"
   ]
  },
  {
   "cell_type": "code",
   "execution_count": 4,
   "metadata": {},
   "outputs": [],
   "source": [
    "dir = \"DB_EXP_3x16Gbaud\"\n",
    "\n",
    "for i in spacing.keys():\n",
    "    for j in spacing[i]:\n",
    "        data = np.loadtxt(f\"{dir}/{i}/16QAM_3x16GBd_consY{j}dB.csv\", delimiter=\",\", skiprows=1)\n",
    "        n = int(len(data) / n_samples)\n",
    "\n",
    "        for k in range(n):\n",
    "            data_sample = data[k * n_samples : (k + 1) * n_samples]\n",
    "\n",
    "            # Histogram of the data\n",
    "            x = data_sample[:, 0]\n",
    "            y = data_sample[:, 1]\n",
    "            hist, _, _ = np.histogram2d(x, y, bins=64, range=[[-5, 5], [-5, 5]])\n",
    "\n",
    "            # Check if the directory exists\n",
    "            if not os.path.exists(f\"constellations/{i}\"):\n",
    "                os.makedirs(f\"constellations/{i}\")\n",
    "\n",
    "            # Save the histogram\n",
    "            cv2.imwrite(f\"constellations/{i}/{j}_dB_sample_{k}.png\", hist)"
   ]
  }
 ],
 "metadata": {
  "kernelspec": {
   "display_name": "base",
   "language": "python",
   "name": "python3"
  },
  "language_info": {
   "codemirror_mode": {
    "name": "ipython",
    "version": 3
   },
   "file_extension": ".py",
   "mimetype": "text/x-python",
   "name": "python",
   "nbconvert_exporter": "python",
   "pygments_lexer": "ipython3",
   "version": "3.11.5"
  }
 },
 "nbformat": 4,
 "nbformat_minor": 2
}
